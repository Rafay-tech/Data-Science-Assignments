{
 "cells": [
  {
   "cell_type": "markdown",
   "id": "f61ce082",
   "metadata": {},
   "source": [
    "# Assignment 03  \n",
    "\n",
    "## Question no 1  \n",
    "\n",
    "### Lists:\n",
    "\n",
    "1. Create an empty list my_list.\n",
    "2. Append three elements to my_list using the append method."
   ]
  },
  {
   "cell_type": "code",
   "execution_count": 8,
   "id": "aa811f38",
   "metadata": {},
   "outputs": [],
   "source": [
    "my_list = []\n",
    "my_list.append(1)\n",
    "my_list.append(2)\n",
    "my_list.append(3)"
   ]
  },
  {
   "cell_type": "markdown",
   "id": "b7f8c4b8",
   "metadata": {},
   "source": [
    "3. Insert an element at a specific position in my_list using the insert method."
   ]
  },
  {
   "cell_type": "code",
   "execution_count": 9,
   "id": "07c4f9ee",
   "metadata": {},
   "outputs": [],
   "source": [
    "my_list.insert(3,4)"
   ]
  },
  {
   "cell_type": "markdown",
   "id": "12b8c05e",
   "metadata": {},
   "source": [
    "4. Remove an element from my_list using the remove method.\n",
    "5. Print the final state of my_list."
   ]
  },
  {
   "cell_type": "code",
   "execution_count": 7,
   "id": "f6ea4a67",
   "metadata": {},
   "outputs": [
    {
     "name": "stdout",
     "output_type": "stream",
     "text": [
      "Final stage of list  [1, 2, 4]\n"
     ]
    }
   ],
   "source": [
    "my_list.remove(3)\n",
    "print(\"Final stage of list \", my_list)"
   ]
  },
  {
   "cell_type": "markdown",
   "id": "dedd35c2",
   "metadata": {},
   "source": [
    "## Question no 2\n",
    "\n",
    "### Tuple\n",
    "\n",
    "1. Create a tuple my_tuple with at least five elements."
   ]
  },
  {
   "cell_type": "code",
   "execution_count": 10,
   "id": "1744f1c4",
   "metadata": {},
   "outputs": [
    {
     "name": "stdout",
     "output_type": "stream",
     "text": [
      "(10, 20, 30, 40, 50)\n"
     ]
    }
   ],
   "source": [
    "my_tuple = (10,20,30,40,50)\n",
    "print(my_tuple)"
   ]
  },
  {
   "cell_type": "markdown",
   "id": "ab8a880b",
   "metadata": {},
   "source": [
    "2. Use tuple unpacking to assign values to multiple variables."
   ]
  },
  {
   "cell_type": "code",
   "execution_count": 15,
   "id": "806dc354",
   "metadata": {},
   "outputs": [
    {
     "name": "stdout",
     "output_type": "stream",
     "text": [
      "10 20 30 40 50\n"
     ]
    }
   ],
   "source": [
    "a, b, c, d, e = my_tuple\n",
    "print(a,b,c,d,e)"
   ]
  },
  {
   "cell_type": "markdown",
   "id": "1a5a8bf4",
   "metadata": {},
   "source": [
    "3. Concatenate two tuples and print the result."
   ]
  },
  {
   "cell_type": "code",
   "execution_count": 16,
   "id": "625e9d3a",
   "metadata": {},
   "outputs": [
    {
     "name": "stdout",
     "output_type": "stream",
     "text": [
      "Concatenated Tuple  (10, 20, 30, 40, 50, 60, 70, 80)\n"
     ]
    }
   ],
   "source": [
    "another_tuple = (60,70,80)\n",
    "concatenated_tuple = my_tuple + another_tuple\n",
    "print(\"Concatenated Tuple \", concatenated_tuple)"
   ]
  },
  {
   "cell_type": "markdown",
   "id": "b8c55ed2",
   "metadata": {},
   "source": [
    "4. Access and print the elements of my_tuple using both positive and negative indexing."
   ]
  },
  {
   "cell_type": "code",
   "execution_count": 22,
   "id": "be2cb58b",
   "metadata": {},
   "outputs": [
    {
     "name": "stdout",
     "output_type": "stream",
     "text": [
      "(20, 30, 40)\n"
     ]
    }
   ],
   "source": [
    "print(my_tuple[1:4])"
   ]
  },
  {
   "cell_type": "code",
   "execution_count": 23,
   "id": "bc96ebd5",
   "metadata": {},
   "outputs": [
    {
     "name": "stdout",
     "output_type": "stream",
     "text": [
      "(30, 40)\n"
     ]
    }
   ],
   "source": [
    "print(my_tuple[-3:-1])"
   ]
  },
  {
   "cell_type": "markdown",
   "id": "6686fd34",
   "metadata": {},
   "source": [
    "5. Perform any operation that demonstrates that tuples are immutable."
   ]
  },
  {
   "cell_type": "code",
   "execution_count": 24,
   "id": "31a6f9d6",
   "metadata": {},
   "outputs": [
    {
     "ename": "TypeError",
     "evalue": "'tuple' object does not support item assignment",
     "output_type": "error",
     "traceback": [
      "\u001b[1;31m---------------------------------------------------------------------------\u001b[0m",
      "\u001b[1;31mTypeError\u001b[0m                                 Traceback (most recent call last)",
      "Cell \u001b[1;32mIn[24], line 1\u001b[0m\n\u001b[1;32m----> 1\u001b[0m \u001b[43mmy_tuple\u001b[49m\u001b[43m[\u001b[49m\u001b[38;5;241;43m0\u001b[39;49m\u001b[43m]\u001b[49m \u001b[38;5;241m=\u001b[39m \u001b[38;5;241m100\u001b[39m\n",
      "\u001b[1;31mTypeError\u001b[0m: 'tuple' object does not support item assignment"
     ]
    }
   ],
   "source": [
    "my_tuple[0] = 100"
   ]
  },
  {
   "cell_type": "markdown",
   "id": "143d4f6a",
   "metadata": {},
   "source": [
    "## Question no 3\n",
    "\n",
    "### Input & Output\n",
    "\n",
    "1. Prompt the user to enter their name using input.\n",
    "2. Print a welcome message using the entered name."
   ]
  },
  {
   "cell_type": "code",
   "execution_count": 30,
   "id": "d309c70b",
   "metadata": {},
   "outputs": [
    {
     "name": "stdout",
     "output_type": "stream",
     "text": [
      "Enter your name: Rafay\n",
      "Welcome! Rafay\n"
     ]
    }
   ],
   "source": [
    "user_name = input(\"Enter your name: \")\n",
    "print(\"Welcome!\", user_name)"
   ]
  },
  {
   "cell_type": "markdown",
   "id": "3105b89a",
   "metadata": {},
   "source": [
    "3. Ask the user to input two numbers, convert them to integers, and calculate their sum and product.\n",
    "4. Display the results using formatted output."
   ]
  },
  {
   "cell_type": "code",
   "execution_count": 32,
   "id": "1a9acc5b",
   "metadata": {},
   "outputs": [
    {
     "name": "stdout",
     "output_type": "stream",
     "text": [
      "Enter your first number: 3\n",
      "Enter your second number: 4\n",
      "The sum is: 7\n",
      "The product is: 12\n"
     ]
    }
   ],
   "source": [
    "num_1 = int(input(\"Enter your first number: \"))\n",
    "num_2 = int(input(\"Enter your second number: \"))\n",
    "\n",
    "sum_result = num_1 + num_2\n",
    "product_result = num_1 * num_2\n",
    "\n",
    "print(f\"The sum is:\" , sum_result)\n",
    "print(f\"The product is:\", product_result)"
   ]
  },
  {
   "cell_type": "markdown",
   "id": "3bf8a999",
   "metadata": {},
   "source": [
    "## Question no 4\n",
    "\n",
    "### Operators: \n",
    "\n",
    "1. Create a variable number and initialize it with an integer value.\n",
    "2. Use the modulus operator to check if the num is even or odd."
   ]
  },
  {
   "cell_type": "code",
   "execution_count": 38,
   "id": "02912ff7",
   "metadata": {},
   "outputs": [
    {
     "name": "stdout",
     "output_type": "stream",
     "text": [
      "Enter any number: 10\n",
      "10 is even.\n"
     ]
    }
   ],
   "source": [
    "num = int(input(\"Enter any number: \"))\n",
    "if num%2==0:\n",
    "    print(f\"{num} is even.\")\n",
    "else:\n",
    "    print(f\"{num} is odd.\")"
   ]
  },
  {
   "cell_type": "markdown",
   "id": "e7f49941",
   "metadata": {},
   "source": [
    "3. Use a comparison operator to check if the num is greater than or equal to 10."
   ]
  },
  {
   "cell_type": "code",
   "execution_count": 39,
   "id": "ccbb5a4f",
   "metadata": {},
   "outputs": [
    {
     "name": "stdout",
     "output_type": "stream",
     "text": [
      "10 is greater than or equal to 10.\n"
     ]
    }
   ],
   "source": [
    "if num >= 10:\n",
    "    print(f\"{num} is greater than or equal to 10.\")\n",
    "else:\n",
    "    print(f\"{num} is less than 10.\")"
   ]
  },
  {
   "cell_type": "markdown",
   "id": "737b8c83",
   "metadata": {},
   "source": [
    "4. Combine logical operators to create a complex condition and print the result."
   ]
  },
  {
   "cell_type": "code",
   "execution_count": 41,
   "id": "fd43141f",
   "metadata": {},
   "outputs": [
    {
     "name": "stdout",
     "output_type": "stream",
     "text": [
      "10 is even and greater than or equal to 10.\n"
     ]
    }
   ],
   "source": [
    "if num % 2 == 0 and num >= 10:\n",
    "    print(f\"{num} is even and greater than or equal to 10.\")\n",
    "else:\n",
    "    print(f\"{num} does not satisfy the complex condition.\")"
   ]
  },
  {
   "cell_type": "code",
   "execution_count": null,
   "id": "cd9a46bd",
   "metadata": {},
   "outputs": [],
   "source": []
  }
 ],
 "metadata": {
  "kernelspec": {
   "display_name": "Python 3 (ipykernel)",
   "language": "python",
   "name": "python3"
  },
  "language_info": {
   "codemirror_mode": {
    "name": "ipython",
    "version": 3
   },
   "file_extension": ".py",
   "mimetype": "text/x-python",
   "name": "python",
   "nbconvert_exporter": "python",
   "pygments_lexer": "ipython3",
   "version": "3.11.5"
  }
 },
 "nbformat": 4,
 "nbformat_minor": 5
}
